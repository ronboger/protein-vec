{
 "cells": [
  {
   "cell_type": "code",
   "execution_count": 1,
   "id": "d7c2da84-2365-4e17-9c47-75eee1823524",
   "metadata": {},
   "outputs": [],
   "source": [
    "import torch\n",
    "from model_protein_moe import trans_basic_block, trans_basic_block_Config\n",
    "from utils_search import *\n",
    "from transformers import T5EncoderModel, T5Tokenizer\n",
    "import re\n",
    "import gc\n",
    "from sklearn.manifold import TSNE\n",
    "import matplotlib.pyplot as plt\n",
    "import seaborn as sns\n",
    "import numpy as np\n",
    "import pandas as pd\n",
    "from collections import defaultdict\n",
    "import faiss\n",
    "\n",
    "\n",
    "device = torch.device('cuda:0' if torch.cuda.is_available() else 'cpu')"
   ]
  },
  {
   "cell_type": "code",
   "execution_count": 2,
   "id": "9a600f00-c74b-4637-9c03-2acb3add515e",
   "metadata": {},
   "outputs": [],
   "source": [
    "#Protein-Vec MOE model checkpoint and config\n",
    "vec_model_cpnt = 'protein_vec_models/protein_vec.ckpt'\n",
    "vec_model_config = 'protein_vec_models/protein_vec_params.json'"
   ]
  },
  {
   "cell_type": "code",
   "execution_count": 3,
   "id": "f7fc0ff9-1315-4f11-a29a-da5fa7f1a32c",
   "metadata": {},
   "outputs": [
    {
     "name": "stderr",
     "output_type": "stream",
     "text": [
      "You are using the default legacy behaviour of the <class 'transformers.models.t5.tokenization_t5.T5Tokenizer'>. This is expected, and simply means that the `legacy` (previous) behavior will be used so nothing changes for you. If you want to use the new behaviour, set `legacy=False`. This should only be set if you understand what it means, and thouroughly read the reason why this was added as explained in https://github.com/huggingface/transformers/pull/24565\n"
     ]
    }
   ],
   "source": [
    "#Load the ProtTrans model and ProtTrans tokenizer\n",
    "tokenizer = T5Tokenizer.from_pretrained(\"Rostlab/prot_t5_xl_uniref50\", do_lower_case=False )\n",
    "model = T5EncoderModel.from_pretrained(\"Rostlab/prot_t5_xl_uniref50\")\n",
    "gc.collect()\n",
    "\n",
    "model = model.to(device)\n",
    "model = model.eval()"
   ]
  },
  {
   "cell_type": "code",
   "execution_count": 4,
   "id": "5771ef42-4c25-4715-b5bd-ce8d736e803c",
   "metadata": {},
   "outputs": [
    {
     "name": "stderr",
     "output_type": "stream",
     "text": [
      "Lightning automatically upgraded your loaded checkpoint from v1.9.4 to v2.1.2. To apply the upgrade to your files permanently, run `python -m pytorch_lightning.utilities.upgrade_checkpoint protein_vec_models/protein_vec.ckpt`\n",
      "Lightning automatically upgraded your loaded checkpoint from v1.8.0rc0 to v2.1.2. To apply the upgrade to your files permanently, run `python -m pytorch_lightning.utilities.upgrade_checkpoint protein_vec_models/tm_vec_swiss_model_large.ckpt`\n",
      "Lightning automatically upgraded your loaded checkpoint from v1.9.4 to v2.1.2. To apply the upgrade to your files permanently, run `python -m pytorch_lightning.utilities.upgrade_checkpoint protein_vec_models/aspect_vec_pfam.ckpt`\n",
      "Lightning automatically upgraded your loaded checkpoint from v1.9.4 to v2.1.2. To apply the upgrade to your files permanently, run `python -m pytorch_lightning.utilities.upgrade_checkpoint protein_vec_models/aspect_vec_gene3d.ckpt`\n",
      "Lightning automatically upgraded your loaded checkpoint from v1.9.4 to v2.1.2. To apply the upgrade to your files permanently, run `python -m pytorch_lightning.utilities.upgrade_checkpoint protein_vec_models/aspect_vec_ec.ckpt`\n",
      "Lightning automatically upgraded your loaded checkpoint from v1.9.4 to v2.1.2. To apply the upgrade to your files permanently, run `python -m pytorch_lightning.utilities.upgrade_checkpoint protein_vec_models/aspect_vec_go_mfo.ckpt`\n",
      "Lightning automatically upgraded your loaded checkpoint from v1.9.4 to v2.1.2. To apply the upgrade to your files permanently, run `python -m pytorch_lightning.utilities.upgrade_checkpoint protein_vec_models/aspect_vec_go_bpo.ckpt`\n",
      "Lightning automatically upgraded your loaded checkpoint from v1.9.4 to v2.1.2. To apply the upgrade to your files permanently, run `python -m pytorch_lightning.utilities.upgrade_checkpoint protein_vec_models/aspect_vec_go_cco.ckpt`\n"
     ]
    }
   ],
   "source": [
    "#Load the model\n",
    "vec_model_config = trans_basic_block_Config.from_json(vec_model_config)\n",
    "model_deep = trans_basic_block.load_from_checkpoint(vec_model_cpnt, config=vec_model_config)\n",
    "model_deep = model_deep.to(device)\n",
    "model_deep = model_deep.eval()"
   ]
  },
  {
   "cell_type": "code",
   "execution_count": 5,
   "id": "5bba4329-557e-44e1-a0f3-19f0ade75326",
   "metadata": {},
   "outputs": [],
   "source": [
    "# Load in uniprot meta data\n",
    "meta_data_new = pd.read_csv('data/uniprotkb_AND_reviewed_true_2023_07_03.tsv', sep='\\t')"
   ]
  },
  {
   "cell_type": "code",
   "execution_count": 10,
   "id": "bc03eabf-d1b2-4ca7-aadc-889d1eb8e2ff",
   "metadata": {},
   "outputs": [],
   "source": [
    "#Now filter for the proteins that were newly discovered\n",
    "new_proteins = meta_data_new[meta_data_new['Date of creation'] > '2022-05-25'].reset_index(drop=True)"
   ]
  },
  {
   "cell_type": "code",
   "execution_count": 11,
   "id": "aa1d2919-12be-4893-92d8-22c1db7ba41e",
   "metadata": {},
   "outputs": [
    {
     "name": "stdout",
     "output_type": "stream",
     "text": [
      "Number of new proteins deposited after 2022-05-25\n",
      "2350\n",
      "Filtered proteins longer than 2000 amino acids\n",
      "2295\n"
     ]
    }
   ],
   "source": [
    "print('Number of new proteins deposited after 2022-05-25')\n",
    "print(len(new_proteins))\n",
    "\n",
    "# filter those proteins that are greater than 2000 amino acid residues long\n",
    "new_proteins['length'] = new_proteins['Sequence'].str.len()\n",
    "new_proteins = new_proteins[new_proteins['length'] <= 2000]\n",
    "print('Filtered proteins longer than 2000 amino acids')\n",
    "print(len(new_proteins))"
   ]
  },
  {
   "cell_type": "code",
   "execution_count": 12,
   "id": "6bc961b3-35ab-4b11-b284-6422f6b364b7",
   "metadata": {},
   "outputs": [
    {
     "name": "stderr",
     "output_type": "stream",
     "text": [
      "/home/meet/projects/protein-vec/protein-vec-env/lib/python3.10/site-packages/torch/nn/modules/transformer.py:380: UserWarning: The PyTorch API of nested tensors is in prototype stage and will change in the near future. (Triggered internally at ../aten/src/ATen/NestedTensorImpl.cpp:178.)\n",
      "  output = torch._nested_tensor_from_mask(output, src_key_padding_mask.logical_not(), mask_check=False)\n"
     ]
    },
    {
     "name": "stdout",
     "output_type": "stream",
     "text": [
      "50\n",
      "100\n",
      "150\n",
      "200\n",
      "250\n",
      "300\n",
      "350\n",
      "400\n",
      "450\n",
      "500\n",
      "550\n",
      "600\n",
      "650\n",
      "700\n",
      "750\n",
      "800\n",
      "850\n",
      "900\n",
      "950\n",
      "1000\n",
      "1050\n",
      "1100\n",
      "1150\n",
      "1200\n",
      "1250\n",
      "1300\n",
      "1350\n",
      "1400\n",
      "1450\n",
      "1500\n",
      "1550\n",
      "1600\n",
      "1650\n",
      "1700\n",
      "1750\n",
      "1800\n",
      "1850\n",
      "1900\n",
      "1950\n",
      "2000\n",
      "2050\n",
      "2100\n",
      "2150\n",
      "2200\n",
      "2250\n"
     ]
    }
   ],
   "source": [
    "# This is a forward pass of the Protein-Vec model\n",
    "# Every aspect is turned on (therefore no masks)\n",
    "sampled_keys = np.array(['TM', 'PFAM', 'GENE3D', 'ENZYME', 'MFO', 'BPO', 'CCO'])\n",
    "all_cols = np.array(['TM', 'PFAM', 'GENE3D', 'ENZYME', 'MFO', 'BPO', 'CCO'])\n",
    "masks = [all_cols[k] in sampled_keys for k in range(len(all_cols))]\n",
    "masks = torch.logical_not(torch.tensor(masks, dtype=torch.bool))[None,:]\n",
    "\n",
    "#Pull out sequences for the new proteins\n",
    "flat_seqs = new_proteins['Sequence'].values\n",
    "\n",
    "#Loop through the sequences and embed them using protein-vec\n",
    "i = 0\n",
    "embed_all_sequences = []\n",
    "while i < len(flat_seqs): \n",
    "    protrans_sequence = featurize_prottrans(flat_seqs[i:i+1], model, tokenizer, device)\n",
    "    embedded_sequence = embed_vec(protrans_sequence, model_deep, masks, device)\n",
    "    embed_all_sequences.append(embedded_sequence)\n",
    "    i = i + 1\n",
    "    if i % 50 == 0:\n",
    "        print(i)    \n"
   ]
  },
  {
   "cell_type": "code",
   "execution_count": 13,
   "id": "41299473",
   "metadata": {},
   "outputs": [],
   "source": [
    "#Combine the embedding vectors into an array\n",
    "query_embeddings = np.concatenate(embed_all_sequences)"
   ]
  },
  {
   "cell_type": "markdown",
   "id": "78713307-6ed2-435a-9389-18bb35902269",
   "metadata": {},
   "source": [
    "Now that we have embeddings for the newly discovered proteins, we can visualize them after performing TSNE, and we can transfer annotations to them as well"
   ]
  },
  {
   "cell_type": "code",
   "execution_count": 14,
   "id": "80aa34c5-d700-4320-af0d-d849636a4ce4",
   "metadata": {
    "tags": []
   },
   "outputs": [],
   "source": [
    "#Perform TSNE on the embedding vectors\n",
    "all_X_embedded = TSNE(n_components=2, perplexity=10, learning_rate='auto', init='random').fit_transform(query_embeddings)\n",
    "all_X_embedded_df = pd.DataFrame(all_X_embedded)\n",
    "all_X_embedded_df.columns = [\"Dim1\", \"Dim2\"]\n",
    "all_X_embedded_df['Pfam'] = new_proteins['Pfam'].values[:len(all_X_embedded_df)]\n",
    "all_X_embedded_df['EC'] = new_proteins['EC number'].values[:len(all_X_embedded_df)]"
   ]
  },
  {
   "cell_type": "code",
   "execution_count": 15,
   "id": "62818905-93bf-45b4-9d21-8842788b4a14",
   "metadata": {
    "tags": []
   },
   "outputs": [
    {
     "data": {
      "text/plain": [
       "<seaborn.axisgrid.FacetGrid at 0x7f022fdec1c0>"
      ]
     },
     "execution_count": 15,
     "metadata": {},
     "output_type": "execute_result"
    },
    {
     "data": {
      "image/png": "[encoded data removed]",
      "text/plain": [
       "<Figure size 680.125x500 with 1 Axes>"
      ]
     },
     "metadata": {},
     "output_type": "display_data"
    }
   ],
   "source": [
    "#For visualization purposes, filter for the top 20 PFam terms\n",
    "top_ranks = list(all_X_embedded_df['Pfam'].value_counts()[0:20].index)\n",
    "sns.lmplot(x=\"Dim1\", y=\"Dim2\", data=all_X_embedded_df[all_X_embedded_df['Pfam'].isin(top_ranks)], hue=\"Pfam\", fit_reg=False)\n"
   ]
  },
  {
   "cell_type": "code",
   "execution_count": 17,
   "id": "91bb6977-b852-4cf8-8c29-62ffe56358d1",
   "metadata": {
    "tags": []
   },
   "outputs": [],
   "source": [
    "################## Load the lookup database of all embeddings (note that we will pull out only embeddings from proteins that were trained on)\n",
    "embeddings = np.load('protein_vec_embeddings/lookup_embeddings.npy')\n",
    "lookup_proteins_meta = pd.read_csv('protein_vec_embeddings/lookup_embeddings_meta_data.tsv', sep=\"\\t\")\n"
   ]
  },
  {
   "cell_type": "code",
   "execution_count": 18,
   "id": "4c0443c1-bedf-47fc-8a9e-c9981b1ed7bb",
   "metadata": {
    "tags": []
   },
   "outputs": [
    {
     "name": "stdout",
     "output_type": "stream",
     "text": [
      "Maximum date of lookup database protein\n"
     ]
    },
    {
     "data": {
      "text/plain": [
       "'2022-05-25'"
      ]
     },
     "execution_count": 18,
     "metadata": {},
     "output_type": "execute_result"
    }
   ],
   "source": [
    "print(\"Maximum date of lookup database protein\")\n",
    "np.max(lookup_proteins_meta['Date of creation'])"
   ]
  },
  {
   "cell_type": "markdown",
   "id": "da53d555-a20b-43c0-8140-15b88637e3a2",
   "metadata": {
    "tags": []
   },
   "source": [
    "We can run search and the nearest neighbor pipeline for any of our available aspects\n",
    " - 'Gene Ontology (biological process)'\n",
    " - 'Gene Ontology (molecular function)' \n",
    " - 'Gene Ontology (cellular component)' \n",
    " - 'Gene3D' \n",
    " - 'Pfam' \n",
    " - 'EC number'"
   ]
  },
  {
   "cell_type": "code",
   "execution_count": 19,
   "id": "03cd96ff-0f0a-4af5-a3d6-b599b1608443",
   "metadata": {},
   "outputs": [],
   "source": [
    "#Switch this for whichever aspect you want to perform search for\n",
    "############### User parameter\n",
    "column = 'Pfam'"
   ]
  },
  {
   "cell_type": "code",
   "execution_count": 20,
   "id": "ccee8331-342c-4acf-b441-decd61c0b717",
   "metadata": {},
   "outputs": [],
   "source": [
    "# Filter for lookup proteins with annotations for the relavant aspect (don't want to transfer null annotations)\n",
    "col_lookup = lookup_proteins_meta[~lookup_proteins_meta[column].isnull()]\n",
    "col_lookup_embeddings = embeddings[col_lookup.index]\n",
    "col_meta_data = col_lookup[column].values\n",
    "\n",
    "# load database\n",
    "lookup_database = load_database(col_lookup_embeddings)\n",
    "\n",
    "# Query for the 1st nearest neighbor\n",
    "k = 1\n",
    "D, I = query(lookup_database, query_embeddings, k)\n",
    "\n",
    "#Get metadata for the 1st nearest neighbor\n",
    "near_ids = []\n",
    "for i in range(I.shape[0]):\n",
    "    meta = col_meta_data[I[i]]\n",
    "    near_ids.append(list(meta))       \n",
    "\n",
    "near_ids = np.array(near_ids)"
   ]
  },
  {
   "cell_type": "code",
   "execution_count": 21,
   "id": "dbef3ae1-92a8-4618-90d4-7847c022c638",
   "metadata": {
    "tags": []
   },
   "outputs": [
    {
     "name": "stdout",
     "output_type": "stream",
     "text": [
      "Annotations for the nearest neighbors (with aspect annotations) of newly discovered proteins\n",
      "[['PF10645;PF17652;PF03639;']\n",
      " ['PF01583;PF01747;PF14306;']\n",
      " ['PF01370;']\n",
      " ...\n",
      " ['PF04517;']\n",
      " ['PF10484;']\n",
      " ['PF07380;']]\n"
     ]
    }
   ],
   "source": [
    "print(\"Annotations for the nearest neighbors (with aspect annotations) of newly discovered proteins\")\n",
    "print(near_ids)"
   ]
  },
  {
   "cell_type": "code",
   "execution_count": null,
   "id": "2332d719-cad2-4c10-b5a2-6e45a1da82cc",
   "metadata": {},
   "outputs": [],
   "source": []
  }
 ],
 "metadata": {
  "kernelspec": {
   "display_name": "Python 3 (ipykernel)",
   "language": "python",
   "name": "python3"
  },
  "language_info": {
   "codemirror_mode": {
    "name": "ipython",
    "version": 3
   },
   "file_extension": ".py",
   "mimetype": "text/x-python",
   "name": "python",
   "nbconvert_exporter": "python",
   "pygments_lexer": "ipython3",
   "version": "3.10.12"
  }
 },
 "nbformat": 4,
 "nbformat_minor": 5
}
